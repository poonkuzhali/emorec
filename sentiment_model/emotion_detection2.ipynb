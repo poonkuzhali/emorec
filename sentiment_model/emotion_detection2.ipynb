{
 "cells": [
  {
   "cell_type": "code",
   "execution_count": 2,
   "id": "initial_id",
   "metadata": {
    "collapsed": true,
    "ExecuteTime": {
     "end_time": "2023-10-22T19:00:37.239801Z",
     "start_time": "2023-10-22T19:00:37.228909Z"
    }
   },
   "outputs": [],
   "source": [
    "import numpy as np\n",
    "import pandas as pd\n",
    "from sklearn.preprocessing import OneHotEncoder\n",
    "from keras.models import Sequential\n",
    "from keras.layers import *\n",
    "import tensorflow as tf"
   ]
  },
  {
   "cell_type": "code",
   "execution_count": 3,
   "outputs": [
    {
     "data": {
      "text/plain": "      ID sentiment                                            content\n0  10941     anger  At the point today where if someone says somet...\n1  10942     anger  @CorningFootball  IT'S GAME DAY!!!!      T MIN...\n2  10943     anger  This game has pissed me off more than any othe...\n3  10944     anger  @spamvicious I've just found out it's Candice ...\n4  10945     anger  @moocowward @mrsajhargreaves @Melly77 @GaryBar...",
      "text/html": "<div>\n<style scoped>\n    .dataframe tbody tr th:only-of-type {\n        vertical-align: middle;\n    }\n\n    .dataframe tbody tr th {\n        vertical-align: top;\n    }\n\n    .dataframe thead th {\n        text-align: right;\n    }\n</style>\n<table border=\"1\" class=\"dataframe\">\n  <thead>\n    <tr style=\"text-align: right;\">\n      <th></th>\n      <th>ID</th>\n      <th>sentiment</th>\n      <th>content</th>\n    </tr>\n  </thead>\n  <tbody>\n    <tr>\n      <th>0</th>\n      <td>10941</td>\n      <td>anger</td>\n      <td>At the point today where if someone says somet...</td>\n    </tr>\n    <tr>\n      <th>1</th>\n      <td>10942</td>\n      <td>anger</td>\n      <td>@CorningFootball  IT'S GAME DAY!!!!      T MIN...</td>\n    </tr>\n    <tr>\n      <th>2</th>\n      <td>10943</td>\n      <td>anger</td>\n      <td>This game has pissed me off more than any othe...</td>\n    </tr>\n    <tr>\n      <th>3</th>\n      <td>10944</td>\n      <td>anger</td>\n      <td>@spamvicious I've just found out it's Candice ...</td>\n    </tr>\n    <tr>\n      <th>4</th>\n      <td>10945</td>\n      <td>anger</td>\n      <td>@moocowward @mrsajhargreaves @Melly77 @GaryBar...</td>\n    </tr>\n  </tbody>\n</table>\n</div>"
     },
     "execution_count": 3,
     "metadata": {},
     "output_type": "execute_result"
    }
   ],
   "source": [
    "df=pd.read_csv('/Users/poonkuzhali.saran/PycharmProjects/emorec/sentiment_model/isear/isear_dataset.csv')\n",
    "df.head()"
   ],
   "metadata": {
    "collapsed": false,
    "ExecuteTime": {
     "end_time": "2023-10-22T19:02:44.812039Z",
     "start_time": "2023-10-22T19:02:44.762529Z"
    }
   },
   "id": "62bea457702813e"
  },
  {
   "cell_type": "code",
   "execution_count": 4,
   "outputs": [],
   "source": [
    "Sentences = df['content']\n",
    "Sentiments = df['sentiment']"
   ],
   "metadata": {
    "collapsed": false,
    "ExecuteTime": {
     "end_time": "2023-10-22T19:02:58.729125Z",
     "start_time": "2023-10-22T19:02:58.711856Z"
    }
   },
   "id": "72bbd4ddad5814c7"
  },
  {
   "cell_type": "code",
   "execution_count": 5,
   "outputs": [
    {
     "data": {
      "text/plain": "(7102, 7102)"
     },
     "execution_count": 5,
     "metadata": {},
     "output_type": "execute_result"
    }
   ],
   "source": [
    "len(Sentences), len(Sentiments)"
   ],
   "metadata": {
    "collapsed": false,
    "ExecuteTime": {
     "end_time": "2023-10-22T19:03:04.794850Z",
     "start_time": "2023-10-22T19:03:04.783594Z"
    }
   },
   "id": "60cdd6f7e3647e0b"
  },
  {
   "cell_type": "code",
   "execution_count": 6,
   "outputs": [],
   "source": [
    "glove ='/Users/poonkuzhali.saran/PycharmProjects/emorec/sentiment_model/isear/glove.6B.50d.txt'\n",
    "\n",
    "def load_glove_embeddings(path):\n",
    "    embeddings_index = {}\n",
    "    with open(path, 'r', encoding='utf8') as f:\n",
    "        for line in f:\n",
    "            values = line.split()\n",
    "            word = values[0]\n",
    "            coefs = np.asarray(values[1:], dtype='float32')\n",
    "            embeddings_index[word] = coefs\n",
    "    return embeddings_index\n",
    "\n",
    "Glove = load_glove_embeddings(glove)"
   ],
   "metadata": {
    "collapsed": false,
    "ExecuteTime": {
     "end_time": "2023-10-22T19:03:24.021409Z",
     "start_time": "2023-10-22T19:03:21.775924Z"
    }
   },
   "id": "df2b039190764485"
  },
  {
   "cell_type": "code",
   "execution_count": 7,
   "outputs": [
    {
     "data": {
      "text/plain": "0.85103494"
     },
     "execution_count": 7,
     "metadata": {},
     "output_type": "execute_result"
    }
   ],
   "source": [
    "def cosine_similarity(a, b):\n",
    "    \"\"\"\n",
    "    Computes the cosine similarity between two vectors a and b.\n",
    "    \"\"\"\n",
    "    return np.dot(a, b) / (np.linalg.norm(a) * np.linalg.norm(b))\n",
    "\n",
    "Tomato = Glove['tomato']\n",
    "Soup = Glove['soup']\n",
    "\n",
    "cosine_similarity(Tomato, Soup)"
   ],
   "metadata": {
    "collapsed": false,
    "ExecuteTime": {
     "end_time": "2023-10-22T19:04:09.709601Z",
     "start_time": "2023-10-22T19:04:09.690290Z"
    }
   },
   "id": "a9897d4d5c9ea48"
  },
  {
   "cell_type": "code",
   "execution_count": 8,
   "outputs": [],
   "source": [
    "def preprocess(Sentences):\n",
    "    sentences = tf.strings.substr(Sentences, 0, 300)\n",
    "    sentences = tf.strings.regex_replace(sentences, b\"<br\\\\s*/?>\", b\" \")\n",
    "    sentences = tf.strings.regex_replace(sentences, b\"[^a-zA-Z']\", b\" \")\n",
    "    sentences = tf.strings.split(sentences)\n",
    "    sentences = tf.strings.lower(sentences)\n",
    "    sentences = sentences.to_tensor(default_value=b\"<pad>\")\n",
    "    return sentences"
   ],
   "metadata": {
    "collapsed": false,
    "ExecuteTime": {
     "end_time": "2023-10-22T19:04:18.866378Z",
     "start_time": "2023-10-22T19:04:18.848156Z"
    }
   },
   "id": "9724da01fb0057cf"
  },
  {
   "cell_type": "code",
   "execution_count": 9,
   "outputs": [
    {
     "data": {
      "text/plain": "TensorShape([7102, 34])"
     },
     "execution_count": 9,
     "metadata": {},
     "output_type": "execute_result"
    }
   ],
   "source": [
    "sentences = preprocess(Sentences)\n",
    "sentences.shape"
   ],
   "metadata": {
    "collapsed": false,
    "ExecuteTime": {
     "end_time": "2023-10-22T19:04:25.566440Z",
     "start_time": "2023-10-22T19:04:25.503767Z"
    }
   },
   "id": "d6e0c53b73ca2b05"
  },
  {
   "cell_type": "code",
   "execution_count": 10,
   "outputs": [],
   "source": [
    "def encoding(sentences, Glove):\n",
    "    Encoded_vec = []\n",
    "    for sentence in sentences:\n",
    "        sent_vec = []\n",
    "        for token in sentence:\n",
    "            token = token.numpy().decode('utf-8')\n",
    "            if token in Glove:\n",
    "                sent_vec.append(Glove[token])\n",
    "            else:\n",
    "                sent_vec.append(np.zeros(50))\n",
    "        Encoded_vec.append(sent_vec)\n",
    "    return Encoded_vec"
   ],
   "metadata": {
    "collapsed": false,
    "ExecuteTime": {
     "end_time": "2023-10-22T19:04:34.217222Z",
     "start_time": "2023-10-22T19:04:34.197008Z"
    }
   },
   "id": "53a9dabb86917dd0"
  },
  {
   "cell_type": "code",
   "execution_count": 11,
   "outputs": [
    {
     "name": "stdout",
     "output_type": "stream",
     "text": [
      "(7102, 34, 50)\n"
     ]
    }
   ],
   "source": [
    "Encoded_vec = encoding(sentences, Glove)\n",
    "X = np.array(Encoded_vec)\n",
    "print(X.shape)"
   ],
   "metadata": {
    "collapsed": false,
    "ExecuteTime": {
     "end_time": "2023-10-22T19:04:56.866935Z",
     "start_time": "2023-10-22T19:04:40.482539Z"
    }
   },
   "id": "84c6cf87381d74c1"
  },
  {
   "cell_type": "code",
   "execution_count": 12,
   "outputs": [
    {
     "name": "stdout",
     "output_type": "stream",
     "text": [
      "(7102, 4)\n"
     ]
    }
   ],
   "source": [
    "enc = OneHotEncoder(handle_unknown='ignore')\n",
    "Y = enc.fit_transform(np.array(Sentiments).reshape(-1,1)).toarray()\n",
    "print(Y.shape)"
   ],
   "metadata": {
    "collapsed": false,
    "ExecuteTime": {
     "end_time": "2023-10-22T19:05:10.187669Z",
     "start_time": "2023-10-22T19:05:10.166655Z"
    }
   },
   "id": "9058d55b89cc9d8d"
  },
  {
   "cell_type": "code",
   "execution_count": 13,
   "outputs": [],
   "source": [
    "from keras.layers import Embedding\n",
    "from sklearn.model_selection import train_test_split\n",
    "X_train, X_test, Y_train, Y_test = train_test_split(X, Y, test_size=0.2, random_state=23)"
   ],
   "metadata": {
    "collapsed": false,
    "ExecuteTime": {
     "end_time": "2023-10-22T19:05:17.806780Z",
     "start_time": "2023-10-22T19:05:17.665439Z"
    }
   },
   "id": "45425ab1fbba50c9"
  },
  {
   "cell_type": "code",
   "execution_count": 14,
   "outputs": [],
   "source": [
    "class BiLSTMModel:\n",
    "    def __init__(self):\n",
    "        self.model = Sequential()\n",
    "        self.model.add(Bidirectional(LSTM(100, input_shape=(100, 50))))\n",
    "        self.model.add(Dropout(0.2))\n",
    "        self.model.add(Dense(4, activation='softmax'))\n",
    "        self.model.compile(optimizer='Adam', loss='categorical_crossentropy', metrics=['accuracy'])\n",
    "\n",
    "    def fit(self, X, Y, epochs, batch_size):\n",
    "        self.model.fit(X, Y, epochs=epochs, batch_size=batch_size)\n",
    "\n",
    "    def evaluate(self, X, Y, batch_size):\n",
    "        return self.model.evaluate(X, Y, batch_size=batch_size)\n",
    "\n",
    "    def predict(self, X):\n",
    "        return self.model.predict(X)"
   ],
   "metadata": {
    "collapsed": false,
    "ExecuteTime": {
     "end_time": "2023-10-22T19:05:26.245692Z",
     "start_time": "2023-10-22T19:05:26.218586Z"
    }
   },
   "id": "8ed635052bdbf557"
  },
  {
   "cell_type": "code",
   "execution_count": 15,
   "outputs": [
    {
     "name": "stdout",
     "output_type": "stream",
     "text": [
      "Epoch 1/20\n",
      "89/89 [==============================] - 3s 21ms/step - loss: 1.2780 - accuracy: 0.4017\n",
      "Epoch 2/20\n",
      "89/89 [==============================] - 4s 41ms/step - loss: 1.1172 - accuracy: 0.5092\n",
      "Epoch 3/20\n",
      "89/89 [==============================] - 3s 38ms/step - loss: 1.0342 - accuracy: 0.5673\n",
      "Epoch 4/20\n",
      "89/89 [==============================] - 3s 32ms/step - loss: 0.9284 - accuracy: 0.6164\n",
      "Epoch 5/20\n",
      "89/89 [==============================] - 3s 31ms/step - loss: 0.8370 - accuracy: 0.6648\n",
      "Epoch 6/20\n",
      "89/89 [==============================] - 2s 28ms/step - loss: 0.7677 - accuracy: 0.6927\n",
      "Epoch 7/20\n",
      "89/89 [==============================] - 2s 27ms/step - loss: 0.6729 - accuracy: 0.7381\n",
      "Epoch 8/20\n",
      "89/89 [==============================] - 3s 29ms/step - loss: 0.6173 - accuracy: 0.7664\n",
      "Epoch 9/20\n",
      "89/89 [==============================] - 3s 30ms/step - loss: 0.5590 - accuracy: 0.7831\n",
      "Epoch 10/20\n",
      "89/89 [==============================] - 3s 33ms/step - loss: 0.5011 - accuracy: 0.8109\n",
      "Epoch 11/20\n",
      "89/89 [==============================] - 3s 31ms/step - loss: 0.4648 - accuracy: 0.8307\n",
      "Epoch 12/20\n",
      "89/89 [==============================] - 3s 33ms/step - loss: 0.4143 - accuracy: 0.8472\n",
      "Epoch 13/20\n",
      "89/89 [==============================] - 3s 34ms/step - loss: 0.3894 - accuracy: 0.8572\n",
      "Epoch 14/20\n",
      "89/89 [==============================] - 3s 36ms/step - loss: 0.3628 - accuracy: 0.8701\n",
      "Epoch 15/20\n",
      "89/89 [==============================] - 3s 34ms/step - loss: 0.3196 - accuracy: 0.8822\n",
      "Epoch 16/20\n",
      "89/89 [==============================] - 3s 35ms/step - loss: 0.3053 - accuracy: 0.8866\n",
      "Epoch 17/20\n",
      "89/89 [==============================] - 3s 36ms/step - loss: 0.2663 - accuracy: 0.9048\n",
      "Epoch 18/20\n",
      "89/89 [==============================] - 3s 35ms/step - loss: 0.2386 - accuracy: 0.9127\n",
      "Epoch 19/20\n",
      "89/89 [==============================] - 3s 34ms/step - loss: 0.2181 - accuracy: 0.9199\n",
      "Epoch 20/20\n",
      "89/89 [==============================] - 3s 33ms/step - loss: 0.2023 - accuracy: 0.9222\n"
     ]
    }
   ],
   "source": [
    "model = BiLSTMModel()\n",
    "\n",
    "model.fit(X_train,Y_train, epochs=20, batch_size=64)"
   ],
   "metadata": {
    "collapsed": false,
    "ExecuteTime": {
     "end_time": "2023-10-22T19:06:36.188458Z",
     "start_time": "2023-10-22T19:05:36.889936Z"
    }
   },
   "id": "90faf352efbe12a5"
  },
  {
   "cell_type": "code",
   "execution_count": 16,
   "outputs": [
    {
     "name": "stdout",
     "output_type": "stream",
     "text": [
      "Model: \"sequential\"\n",
      "_________________________________________________________________\n",
      " Layer (type)                Output Shape              Param #   \n",
      "=================================================================\n",
      " bidirectional (Bidirection  (None, 200)               120800    \n",
      " al)                                                             \n",
      "                                                                 \n",
      " dropout (Dropout)           (None, 200)               0         \n",
      "                                                                 \n",
      " dense (Dense)               (None, 4)                 804       \n",
      "                                                                 \n",
      "=================================================================\n",
      "Total params: 121604 (475.02 KB)\n",
      "Trainable params: 121604 (475.02 KB)\n",
      "Non-trainable params: 0 (0.00 Byte)\n",
      "_________________________________________________________________\n"
     ]
    }
   ],
   "source": [
    "model.model.summary()"
   ],
   "metadata": {
    "collapsed": false,
    "ExecuteTime": {
     "end_time": "2023-10-22T19:06:47.060919Z",
     "start_time": "2023-10-22T19:06:46.999711Z"
    }
   },
   "id": "802e335f4f792b0c"
  },
  {
   "cell_type": "code",
   "execution_count": 21,
   "outputs": [
    {
     "data": {
      "image/png": "[encoded data removed]",
      "text/plain": "<IPython.core.display.Image object>"
     },
     "execution_count": 21,
     "metadata": {},
     "output_type": "execute_result"
    }
   ],
   "source": [
    "from keras.utils import plot_model\n",
    "plot_model(model.model, to_file='model_plot.png', show_shapes=True, show_layer_names=True)"
   ],
   "metadata": {
    "collapsed": false,
    "ExecuteTime": {
     "end_time": "2023-10-22T19:12:42.751855Z",
     "start_time": "2023-10-22T19:12:41.714758Z"
    }
   },
   "id": "95de901f82646ef9"
  },
  {
   "cell_type": "code",
   "execution_count": 19,
   "outputs": [
    {
     "name": "stdout",
     "output_type": "stream",
     "text": [
      "23/23 [==============================] - 1s 19ms/step - loss: 0.7898 - accuracy: 0.7544\n",
      "Loss: 0.79\n",
      "acc: 0.75\n"
     ]
    }
   ],
   "source": [
    "Loss, acc = model.evaluate(X_test, Y_test, batch_size=64)\n",
    "print(\"Loss: %.2f\" % (Loss))\n",
    "print(\"acc: %.2f\" % (acc))"
   ],
   "metadata": {
    "collapsed": false,
    "ExecuteTime": {
     "end_time": "2023-10-22T19:12:07.588811Z",
     "start_time": "2023-10-22T19:12:06.614426Z"
    }
   },
   "id": "9af529e6796e9845"
  },
  {
   "cell_type": "code",
   "execution_count": 20,
   "outputs": [
    {
     "name": "stdout",
     "output_type": "stream",
     "text": [
      "(1, 10, 50)\n",
      "1/1 [==============================] - 0s 379ms/step\n"
     ]
    },
    {
     "data": {
      "text/plain": "'fear'"
     },
     "execution_count": 20,
     "metadata": {},
     "output_type": "execute_result"
    }
   ],
   "source": [
    "twt = ['Nothing is more relentless than a dog begging for food']\n",
    "Twt = preprocess(twt)\n",
    "\n",
    "Twt = encoding(Twt, Glove)\n",
    "Twt = np.array(Twt)\n",
    "print(Twt.shape)\n",
    "sentiment = model.predict(Twt)[0]\n",
    "label = np.argmax(sentiment)\n",
    "enc.categories_[0][label]"
   ],
   "metadata": {
    "collapsed": false,
    "ExecuteTime": {
     "end_time": "2023-10-22T19:12:27.810598Z",
     "start_time": "2023-10-22T19:12:27.391478Z"
    }
   },
   "id": "1a94fe00e6aae683"
  },
  {
   "cell_type": "code",
   "execution_count": null,
   "outputs": [],
   "source": [],
   "metadata": {
    "collapsed": false
   },
   "id": "8bb22bf3174367cd"
  }
 ],
 "metadata": {
  "kernelspec": {
   "display_name": "Python 3",
   "language": "python",
   "name": "python3"
  },
  "language_info": {
   "codemirror_mode": {
    "name": "ipython",
    "version": 2
   },
   "file_extension": ".py",
   "mimetype": "text/x-python",
   "name": "python",
   "nbconvert_exporter": "python",
   "pygments_lexer": "ipython2",
   "version": "2.7.6"
  }
 },
 "nbformat": 4,
 "nbformat_minor": 5
}
