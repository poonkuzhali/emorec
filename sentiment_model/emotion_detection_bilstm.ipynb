{
 "cells": [
  {
   "cell_type": "code",
   "execution_count": 92,
   "id": "initial_id",
   "metadata": {
    "collapsed": true,
    "ExecuteTime": {
     "end_time": "2023-11-16T21:30:35.765598Z",
     "start_time": "2023-11-16T21:30:35.746787Z"
    }
   },
   "outputs": [],
   "source": [
    "import re\n",
    "import string\n",
    "import numpy as np\n",
    "import pandas as pd\n",
    "import matplotlib.pyplot as plt\n",
    "\n",
    "from sklearn.preprocessing import LabelEncoder\n",
    "from sklearn.model_selection import train_test_split\n",
    "\n",
    "from tensorflow.keras.utils import to_categorical\n",
    "from tensorflow.keras.preprocessing.text import Tokenizer\n",
    "from tensorflow.keras.preprocessing.sequence import pad_sequences\n",
    "\n",
    "from tensorflow.keras.optimizers import Adam\n",
    "from tensorflow.keras.models import Sequential\n",
    "from tensorflow.keras.callbacks import EarlyStopping\n",
    "from tensorflow.keras.layers import Dense, LSTM, Embedding, Bidirectional"
   ]
  },
  {
   "cell_type": "code",
   "execution_count": 93,
   "outputs": [],
   "source": [
    "str_punc = string.punctuation.replace(',', '').replace(\"'\",'')\n",
    "\n",
    "def clean(text):\n",
    "    global str_punc\n",
    "    text = re.sub(r'[^a-zA-Z ]', '', text)\n",
    "    text = text.lower()\n",
    "    return text"
   ],
   "metadata": {
    "collapsed": false,
    "ExecuteTime": {
     "end_time": "2023-11-16T21:30:35.781690Z",
     "start_time": "2023-11-16T21:30:35.752827Z"
    }
   },
   "id": "67323d0b6f3a7630"
  },
  {
   "cell_type": "code",
   "execution_count": 94,
   "outputs": [],
   "source": [
    "df_train = pd.read_csv('isear/train.txt', names=['Text', 'Emotion'], sep=';')\n",
    "df_val = pd.read_csv('isear/val.txt', names=['Text', 'Emotion'], sep=';')\n",
    "df_test = pd.read_csv('isear/test.txt', names=['Text', 'Emotion'], sep=';')\n",
    "\n",
    "X_train = df_train['Text'].apply(clean)\n",
    "y_train = df_train['Emotion']\n",
    "\n",
    "X_test = df_test['Text'].apply(clean)\n",
    "y_test = df_test['Emotion']\n",
    "\n",
    "X_val = df_val['Text'].apply(clean)\n",
    "y_val = df_val['Emotion']"
   ],
   "metadata": {
    "collapsed": false,
    "ExecuteTime": {
     "end_time": "2023-11-16T21:30:35.859430Z",
     "start_time": "2023-11-16T21:30:35.759387Z"
    }
   },
   "id": "a3685eb6e79fc1f1"
  },
  {
   "cell_type": "code",
   "execution_count": null,
   "outputs": [],
   "source": [
    "colors = np.array([\"blue\", 'gray', 'hotpink', 'gold', 'teal', 'cornflowerblue'])\n",
    "\n",
    "plt.bar(y_train.unique(),height=y_train.value_counts(), color=colors)\n",
    "plt.title(\"Training data - classes counts\")\n",
    "plt.show()\n",
    "\n",
    "plt.bar(y_test.unique(),height=y_test.value_counts(), color=colors)\n",
    "plt.title(\"Testing data - classes counts\")\n",
    "plt.show()\n",
    "\n",
    "plt.bar(y_val.unique(),height=y_val.value_counts(), color=colors)\n",
    "plt.title(\"Validation data - classes counts\")\n",
    "plt.show()\n",
    "\n",
    "\n",
    "all_labels = pd.concat([y_train, y_test, y_val])\n",
    "\n",
    "plt.bar(all_labels.unique(), height=all_labels.value_counts(), color=colors)\n",
    "plt.title(\"Emotion dataset\")\n",
    "plt.show()\n",
    "# \n",
    "all_data = pd.concat([df_train, df_val, df_test])\n",
    "# emotion_counts = all_data['Emotion'].value_counts()\n",
    "# colors = ['blue', 'gray', 'hotpink', 'gold', 'teal']\n",
    "# \n",
    "# plt.bar(emotion_counts.index, height=emotion_counts, color=colors)\n",
    "# plt.title('Emotion Distribution in the Combined Dataset')\n",
    "# plt.xlabel('Emotion')\n",
    "# plt.ylabel('Count')\n",
    "# \n",
    "# # Show the plot\n",
    "# plt.show()\n",
    "\n",
    "combined_data = pd.concat([df_train, df_test, df_val])\n",
    "\n",
    "train_counts = pd.crosstab(index=df_train['Emotion'], columns='count')\n",
    "test_counts = pd.crosstab(index=df_test['Emotion'], columns='count')\n",
    "validate_counts = pd.crosstab(index=df_val['Emotion'], columns='count')\n",
    "\n",
    "merged_counts = pd.merge(train_counts, test_counts, left_index=True, right_index=True, suffixes=('_train', '_test'))\n",
    "merged_counts = pd.merge(merged_counts, validate_counts, left_index=True, right_index=True)\n",
    "\n",
    "ax = merged_counts.plot(kind='bar', stacked=False, figsize=(12, 6))\n",
    "\n",
    "ax.set_title('Emotion Distribution Across Train, Test, and Validate Data')\n",
    "ax.set_xlabel('Emotion')\n",
    "ax.set_ylabel('Count')\n",
    "ax.legend(title='Dataset')\n",
    "\n",
    "plt.show()"
   ],
   "metadata": {
    "collapsed": false,
    "is_executing": true
   },
   "id": "757d9a7ba055c6e1"
  },
  {
   "cell_type": "code",
   "execution_count": 96,
   "outputs": [],
   "source": [
    "le = LabelEncoder()\n",
    "y_train = le.fit_transform(y_train)\n",
    "y_test = le.transform(y_test)\n",
    "y_val = le.transform(y_val)\n",
    "\n",
    "y_train = to_categorical(y_train)\n",
    "y_test = to_categorical(y_test)\n",
    "y_val = to_categorical(y_val)"
   ],
   "metadata": {
    "collapsed": false,
    "ExecuteTime": {
     "end_time": "2023-11-16T21:30:36.022515Z",
     "start_time": "2023-11-16T21:30:36.019903Z"
    }
   },
   "id": "11e29719efebe862"
  },
  {
   "cell_type": "code",
   "execution_count": 97,
   "outputs": [
    {
     "name": "stdout",
     "output_type": "stream",
     "text": [
      "Vocabulary size = 16185\n"
     ]
    }
   ],
   "source": [
    "tokenizer = Tokenizer()\n",
    "tokenizer.fit_on_texts(pd.concat([X_train, X_test], axis=0))\n",
    "\n",
    "\n",
    "sequences_train = tokenizer.texts_to_sequences(X_train)\n",
    "sequences_test = tokenizer.texts_to_sequences(X_test)\n",
    "sequences_val = tokenizer.texts_to_sequences(X_val)\n",
    "\n",
    "X_train = pad_sequences(sequences_train, maxlen=256, truncating='pre')\n",
    "X_test = pad_sequences(sequences_test, maxlen=256, truncating='pre')\n",
    "X_val = pad_sequences(sequences_val, maxlen=256, truncating='pre')\n",
    "\n",
    "vocabSize = len(tokenizer.index_word) + 1\n",
    "print(f\"Vocabulary size = {vocabSize}\")"
   ],
   "metadata": {
    "collapsed": false,
    "ExecuteTime": {
     "end_time": "2023-11-16T21:30:36.697186Z",
     "start_time": "2023-11-16T21:30:36.063693Z"
    }
   },
   "id": "89bacb387766de02"
  },
  {
   "cell_type": "code",
   "execution_count": 98,
   "outputs": [
    {
     "name": "stdout",
     "output_type": "stream",
     "text": [
      "Found 400000 word vectors.\n",
      "Converted 15069 words (1115 misses)\n"
     ]
    }
   ],
   "source": [
    "path_to_glove_file = 'isear/glove.6B.200d.txt'\n",
    "num_tokens = vocabSize\n",
    "embedding_dim = 200\n",
    "hits = 0\n",
    "misses = 0\n",
    "embeddings_index = {}\n",
    "with open(path_to_glove_file) as f:\n",
    "    for line in f:\n",
    "        word, coefs = line.split(maxsplit=1)\n",
    "        coefs = np.fromstring(coefs, \"f\", sep=\" \")\n",
    "        embeddings_index[word] = coefs\n",
    "print(\"Found %s word vectors.\" % len(embeddings_index))\n",
    "\n",
    "embedding_matrix = np.zeros((num_tokens, embedding_dim))\n",
    "for word, i in tokenizer.word_index.items():\n",
    "    embedding_vector = embeddings_index.get(word)\n",
    "    if embedding_vector is not None:\n",
    "        embedding_matrix[i] = embedding_vector\n",
    "        hits += 1\n",
    "    else:\n",
    "        misses += 1\n",
    "print(\"Converted %d words (%d misses)\" % (hits, misses))"
   ],
   "metadata": {
    "collapsed": false,
    "ExecuteTime": {
     "end_time": "2023-11-16T21:30:44.328106Z",
     "start_time": "2023-11-16T21:30:37.054448Z"
    }
   },
   "id": "890c5655c4e22d53"
  },
  {
   "cell_type": "code",
   "execution_count": 99,
   "outputs": [
    {
     "name": "stderr",
     "output_type": "stream",
     "text": [
      "WARNING:absl:At this time, the v2.11+ optimizer `tf.keras.optimizers.Adam` runs slowly on M1/M2 Macs, please use the legacy Keras optimizer instead, located at `tf.keras.optimizers.legacy.Adam`.\n"
     ]
    },
    {
     "name": "stdout",
     "output_type": "stream",
     "text": [
      "Model: \"sequential_8\"\n",
      "_________________________________________________________________\n",
      " Layer (type)                Output Shape              Param #   \n",
      "=================================================================\n",
      " embedding_8 (Embedding)     (None, 256, 200)          3237000   \n",
      "                                                                 \n",
      " bidirectional_24 (Bidirect  (None, 256, 512)          935936    \n",
      " ional)                                                          \n",
      "                                                                 \n",
      " bidirectional_25 (Bidirect  (None, 256, 256)          656384    \n",
      " ional)                                                          \n",
      "                                                                 \n",
      " bidirectional_26 (Bidirect  (None, 256)               394240    \n",
      " ional)                                                          \n",
      "                                                                 \n",
      " dense_8 (Dense)             (None, 6)                 1542      \n",
      "                                                                 \n",
      "=================================================================\n",
      "Total params: 5225102 (19.93 MB)\n",
      "Trainable params: 1988102 (7.58 MB)\n",
      "Non-trainable params: 3237000 (12.35 MB)\n",
      "_________________________________________________________________\n"
     ]
    }
   ],
   "source": [
    "adam = Adam(learning_rate=0.005)\n",
    "\n",
    "model = Sequential()\n",
    "model.add(Embedding(vocabSize, 200, input_length=X_train.shape[1], weights=[embedding_matrix], trainable=False))\n",
    "model.add(Bidirectional(LSTM(256, dropout=0.2,recurrent_dropout=0.2, return_sequences=True)))\n",
    "model.add(Bidirectional(LSTM(128, dropout=0.2,recurrent_dropout=0.2, return_sequences=True)))\n",
    "model.add(Bidirectional(LSTM(128, dropout=0.2,recurrent_dropout=0.2)))\n",
    "model.add(Dense(6, activation='softmax'))\n",
    "\n",
    "model.compile(loss='categorical_crossentropy', optimizer=adam, metrics=['accuracy'])\n",
    "model.summary()"
   ],
   "metadata": {
    "collapsed": false,
    "ExecuteTime": {
     "end_time": "2023-11-16T21:30:44.685018Z",
     "start_time": "2023-11-16T21:30:44.329420Z"
    }
   },
   "id": "96ffa195995df621"
  },
  {
   "cell_type": "code",
   "execution_count": 100,
   "outputs": [],
   "source": [
    "callback = EarlyStopping(\n",
    "    monitor=\"val_loss\",\n",
    "    patience=2,\n",
    "    restore_best_weights=True,\n",
    ")"
   ],
   "metadata": {
    "collapsed": false,
    "ExecuteTime": {
     "end_time": "2023-11-16T21:30:44.689700Z",
     "start_time": "2023-11-16T21:30:44.688292Z"
    }
   },
   "id": "6d3b9c9185166213"
  },
  {
   "cell_type": "code",
   "execution_count": 101,
   "outputs": [
    {
     "name": "stdout",
     "output_type": "stream",
     "text": [
      "Epoch 1/10\n",
      "63/63 [==============================] - 752s 12s/step - loss: 1.5530 - accuracy: 0.3778 - val_loss: 1.3421 - val_accuracy: 0.5145\n",
      "Epoch 2/10\n",
      "63/63 [==============================] - 571s 9s/step - loss: 1.2310 - accuracy: 0.5466 - val_loss: 1.0598 - val_accuracy: 0.5895\n",
      "Epoch 3/10\n",
      "63/63 [==============================] - 599s 9s/step - loss: 0.9603 - accuracy: 0.6364 - val_loss: 0.6593 - val_accuracy: 0.7730\n",
      "Epoch 4/10\n",
      "63/63 [==============================] - 612s 10s/step - loss: 0.5075 - accuracy: 0.8225 - val_loss: 0.3438 - val_accuracy: 0.8810\n",
      "Epoch 5/10\n",
      "63/63 [==============================] - 624s 10s/step - loss: 0.3314 - accuracy: 0.8794 - val_loss: 0.4516 - val_accuracy: 0.8460\n",
      "Epoch 6/10\n",
      "63/63 [==============================] - 625s 10s/step - loss: 0.2943 - accuracy: 0.8956 - val_loss: 0.2321 - val_accuracy: 0.9070\n",
      "Epoch 7/10\n",
      "63/63 [==============================] - 637s 10s/step - loss: 0.1822 - accuracy: 0.9286 - val_loss: 0.2123 - val_accuracy: 0.9125\n",
      "Epoch 8/10\n",
      "63/63 [==============================] - 623s 10s/step - loss: 0.1441 - accuracy: 0.9392 - val_loss: 0.1836 - val_accuracy: 0.9180\n",
      "Epoch 9/10\n",
      "63/63 [==============================] - 615s 10s/step - loss: 0.1163 - accuracy: 0.9488 - val_loss: 0.1829 - val_accuracy: 0.9190\n",
      "Epoch 10/10\n",
      "63/63 [==============================] - 571s 9s/step - loss: 0.0977 - accuracy: 0.9554 - val_loss: 0.1906 - val_accuracy: 0.9190\n"
     ]
    }
   ],
   "source": [
    "history = model.fit(X_train,\n",
    "                    y_train,\n",
    "                    validation_data=(X_test, y_test),\n",
    "                    verbose=1,\n",
    "                    batch_size=256,\n",
    "                    epochs=10,\n",
    "                    callbacks=[callback]\n",
    "                   )"
   ],
   "metadata": {
    "collapsed": false,
    "ExecuteTime": {
     "end_time": "2023-11-16T23:14:33.814816Z",
     "start_time": "2023-11-16T21:30:44.690778Z"
    }
   },
   "id": "64aebb2495628eec"
  },
  {
   "cell_type": "code",
   "execution_count": 102,
   "outputs": [
    {
     "name": "stdout",
     "output_type": "stream",
     "text": [
      "63/63 [==============================] - 50s 784ms/step - loss: 0.1760 - accuracy: 0.9260\n"
     ]
    },
    {
     "data": {
      "text/plain": "[0.17599695920944214, 0.9259999990463257]"
     },
     "execution_count": 102,
     "metadata": {},
     "output_type": "execute_result"
    }
   ],
   "source": [
    "model.evaluate(X_val, y_val, verbose=1)"
   ],
   "metadata": {
    "collapsed": false,
    "ExecuteTime": {
     "end_time": "2023-11-16T23:15:23.535987Z",
     "start_time": "2023-11-16T23:14:33.999553Z"
    }
   },
   "id": "dfc62504d654bddd"
  },
  {
   "cell_type": "code",
   "execution_count": 103,
   "outputs": [
    {
     "data": {
      "text/plain": "<Figure size 640x480 with 1 Axes>",
      "image/png": "[encoded data removed]"
     },
     "metadata": {},
     "output_type": "display_data"
    },
    {
     "data": {
      "text/plain": "<Figure size 640x480 with 1 Axes>",
      "image/png": "[encoded data removed]"
     },
     "metadata": {},
     "output_type": "display_data"
    }
   ],
   "source": [
    "%matplotlib inline\n",
    "import matplotlib.pyplot as plt\n",
    "acc = history.history['accuracy']\n",
    "val_acc = history.history['val_accuracy']\n",
    "loss = history.history['loss']\n",
    "val_loss = history.history['val_loss']\n",
    "\n",
    "epochs = range(len(acc))\n",
    "\n",
    "plt.plot(epochs, acc, 'r', label='Training accuracy')\n",
    "plt.plot(epochs, val_acc, 'b', label='Validation accuracy')\n",
    "plt.title('Training and validation accuracy')\n",
    "plt.legend()\n",
    "plt.figure()\n",
    "\n",
    "plt.plot(epochs, loss, 'r', label='Training Loss')\n",
    "plt.plot(epochs, val_loss, 'b', label='Validation Loss')\n",
    "plt.title('Training and validation loss')\n",
    "plt.legend()\n",
    "\n",
    "plt.show()"
   ],
   "metadata": {
    "collapsed": false,
    "ExecuteTime": {
     "end_time": "2023-11-16T23:15:23.992971Z",
     "start_time": "2023-11-16T23:15:23.544324Z"
    }
   },
   "id": "afd42a791b7e57f5"
  },
  {
   "cell_type": "code",
   "execution_count": 104,
   "outputs": [
    {
     "name": "stdout",
     "output_type": "stream",
     "text": [
      "He's over the moon about being accepted to the university\n",
      "1/1 [==============================] - 1s 919ms/step\n",
      "1/1 [==============================] - 0s 284ms/step\n",
      "joy : 0.9983600974082947\n",
      "\n",
      "\n",
      "Your point on this certain matter made me outrageous, how can you say so? This is insane.\n",
      "1/1 [==============================] - 0s 300ms/step\n",
      "1/1 [==============================] - 0s 293ms/step\n",
      "fear : 0.3815328776836395\n",
      "\n",
      "\n",
      "I can't do it, I'm not ready to lose anything, just leave me alone\n",
      "1/1 [==============================] - 0s 294ms/step\n",
      "1/1 [==============================] - 0s 290ms/step\n",
      "sadness : 0.7260383367538452\n",
      "\n",
      "\n",
      "Merlin's beard harry, you can cast the Patronus charm! I'm amazed!\n",
      "1/1 [==============================] - 0s 303ms/step\n",
      "1/1 [==============================] - 0s 290ms/step\n",
      "surprise : 0.5778621435165405\n"
     ]
    }
   ],
   "source": [
    "sentences = [\n",
    "            \"He's over the moon about being accepted to the university\",\n",
    "            \"Your point on this certain matter made me outrageous, how can you say so? This is insane.\",\n",
    "            \"I can't do it, I'm not ready to lose anything, just leave me alone\",\n",
    "            \"Merlin's beard harry, you can cast the Patronus charm! I'm amazed!\"\n",
    "            ]\n",
    "for sentence in sentences:\n",
    "    print(sentence)\n",
    "    sentence = clean(sentence)\n",
    "    sentence = tokenizer.texts_to_sequences([sentence])\n",
    "    sentence = pad_sequences(sentence, maxlen=256, truncating='pre')\n",
    "    result = le.inverse_transform(np.argmax(model.predict(sentence), axis=-1))[0]\n",
    "    proba =  np.max(model.predict(sentence))\n",
    "    print(f\"{result} : {proba}\\n\\n\")"
   ],
   "metadata": {
    "collapsed": false,
    "ExecuteTime": {
     "end_time": "2023-11-16T23:15:27.222524Z",
     "start_time": "2023-11-16T23:15:24.001746Z"
    }
   },
   "id": "3f2cea82667a7857"
  },
  {
   "cell_type": "code",
   "execution_count": 105,
   "outputs": [],
   "source": [
    "import pickle\n",
    "with open('tokenizer.pickle', 'wb') as f:\n",
    "    pickle.dump(tokenizer, f)\n",
    "    \n",
    "with open('labelEncoder.pickle', 'wb') as f:\n",
    "    pickle.dump(le, f)\n",
    "    \n",
    "    \n",
    "model.save('Emotion_Recognition.keras')"
   ],
   "metadata": {
    "collapsed": false,
    "ExecuteTime": {
     "end_time": "2023-11-16T23:15:27.663235Z",
     "start_time": "2023-11-16T23:15:27.239392Z"
    }
   },
   "id": "afdefd068a5b41ec"
  }
 ],
 "metadata": {
  "kernelspec": {
   "display_name": "Python 3",
   "language": "python",
   "name": "python3"
  },
  "language_info": {
   "codemirror_mode": {
    "name": "ipython",
    "version": 2
   },
   "file_extension": ".py",
   "mimetype": "text/x-python",
   "name": "python",
   "nbconvert_exporter": "python",
   "pygments_lexer": "ipython2",
   "version": "2.7.6"
  }
 },
 "nbformat": 4,
 "nbformat_minor": 5
}
