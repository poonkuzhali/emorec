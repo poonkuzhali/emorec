{
 "cells": [
  {
   "cell_type": "code",
   "execution_count": 181,
   "id": "initial_id",
   "metadata": {
    "collapsed": true,
    "ExecuteTime": {
     "end_time": "2023-10-22T22:18:19.238234Z",
     "start_time": "2023-10-22T22:18:19.225359Z"
    }
   },
   "outputs": [],
   "source": [
    "import numpy as np\n",
    "import pandas as pd\n",
    "from sklearn.preprocessing import OneHotEncoder\n",
    "import tensorflow as tf\n",
    "from keras.models import Sequential\n",
    "from keras.layers import *"
   ]
  },
  {
   "cell_type": "code",
   "execution_count": 138,
   "outputs": [
    {
     "data": {
      "text/plain": "      ID sentiment                                            content\n0  10941     anger  At the point today where if someone says somet...\n1  10942     anger  @CorningFootball  IT'S GAME DAY!!!!      T MIN...\n2  10943     anger  This game has pissed me off more than any othe...\n3  10944     anger  @spamvicious I've just found out it's Candice ...\n4  10945     anger  @moocowward @mrsajhargreaves @Melly77 @GaryBar...",
      "text/html": "<div>\n<style scoped>\n    .dataframe tbody tr th:only-of-type {\n        vertical-align: middle;\n    }\n\n    .dataframe tbody tr th {\n        vertical-align: top;\n    }\n\n    .dataframe thead th {\n        text-align: right;\n    }\n</style>\n<table border=\"1\" class=\"dataframe\">\n  <thead>\n    <tr style=\"text-align: right;\">\n      <th></th>\n      <th>ID</th>\n      <th>sentiment</th>\n      <th>content</th>\n    </tr>\n  </thead>\n  <tbody>\n    <tr>\n      <th>0</th>\n      <td>10941</td>\n      <td>anger</td>\n      <td>At the point today where if someone says somet...</td>\n    </tr>\n    <tr>\n      <th>1</th>\n      <td>10942</td>\n      <td>anger</td>\n      <td>@CorningFootball  IT'S GAME DAY!!!!      T MIN...</td>\n    </tr>\n    <tr>\n      <th>2</th>\n      <td>10943</td>\n      <td>anger</td>\n      <td>This game has pissed me off more than any othe...</td>\n    </tr>\n    <tr>\n      <th>3</th>\n      <td>10944</td>\n      <td>anger</td>\n      <td>@spamvicious I've just found out it's Candice ...</td>\n    </tr>\n    <tr>\n      <th>4</th>\n      <td>10945</td>\n      <td>anger</td>\n      <td>@moocowward @mrsajhargreaves @Melly77 @GaryBar...</td>\n    </tr>\n  </tbody>\n</table>\n</div>"
     },
     "execution_count": 138,
     "metadata": {},
     "output_type": "execute_result"
    }
   ],
   "source": [
    "df=pd.read_csv('/Users/poonkuzhali.saran/PycharmProjects/emorec/sentiment_model/isear/isear_dataset.csv')\n",
    "df.head()"
   ],
   "metadata": {
    "collapsed": false,
    "ExecuteTime": {
     "end_time": "2023-10-22T20:46:58.885664Z",
     "start_time": "2023-10-22T20:46:58.838593Z"
    }
   },
   "id": "62bea457702813e"
  },
  {
   "cell_type": "code",
   "execution_count": 139,
   "outputs": [],
   "source": [
    "Sentences = df['content']\n",
    "Sentiments = df['sentiment']"
   ],
   "metadata": {
    "collapsed": false,
    "ExecuteTime": {
     "end_time": "2023-10-22T20:46:58.885810Z",
     "start_time": "2023-10-22T20:46:58.882396Z"
    }
   },
   "id": "72bbd4ddad5814c7"
  },
  {
   "cell_type": "code",
   "execution_count": 140,
   "outputs": [
    {
     "data": {
      "text/plain": "(7102, 7102)"
     },
     "execution_count": 140,
     "metadata": {},
     "output_type": "execute_result"
    }
   ],
   "source": [
    "len(Sentences), len(Sentiments)"
   ],
   "metadata": {
    "collapsed": false,
    "ExecuteTime": {
     "end_time": "2023-10-22T20:46:58.894415Z",
     "start_time": "2023-10-22T20:46:58.886885Z"
    }
   },
   "id": "60cdd6f7e3647e0b"
  },
  {
   "cell_type": "code",
   "execution_count": 141,
   "outputs": [],
   "source": [
    "glove ='/Users/poonkuzhali.saran/PycharmProjects/emorec/sentiment_model/isear/glove.6B.50d.txt'\n",
    "\n",
    "def load_glove_embeddings(path):\n",
    "    embeddings_index = {}\n",
    "    with open(path, 'r', encoding='utf8') as f:\n",
    "        for line in f:\n",
    "            values = line.split()\n",
    "            word = values[0]\n",
    "            coefs = np.asarray(values[1:], dtype='float32')\n",
    "            embeddings_index[word] = coefs\n",
    "    return embeddings_index\n",
    "\n",
    "Glove = load_glove_embeddings(glove)"
   ],
   "metadata": {
    "collapsed": false,
    "ExecuteTime": {
     "end_time": "2023-10-22T20:47:01.413046Z",
     "start_time": "2023-10-22T20:46:58.891704Z"
    }
   },
   "id": "df2b039190764485"
  },
  {
   "cell_type": "code",
   "execution_count": 142,
   "outputs": [
    {
     "data": {
      "text/plain": "0.85103494"
     },
     "execution_count": 142,
     "metadata": {},
     "output_type": "execute_result"
    }
   ],
   "source": [
    "def cosine_similarity(a, b):\n",
    "    \"\"\"\n",
    "    Computes the cosine similarity between two vectors a and b.\n",
    "    \"\"\"\n",
    "    return np.dot(a, b) / (np.linalg.norm(a) * np.linalg.norm(b))\n",
    "\n",
    "Tomato = Glove['tomato']\n",
    "Soup = Glove['soup']\n",
    "\n",
    "cosine_similarity(Tomato, Soup)"
   ],
   "metadata": {
    "collapsed": false,
    "ExecuteTime": {
     "end_time": "2023-10-22T20:47:01.423841Z",
     "start_time": "2023-10-22T20:47:01.415015Z"
    }
   },
   "id": "a9897d4d5c9ea48"
  },
  {
   "cell_type": "code",
   "execution_count": 143,
   "outputs": [],
   "source": [
    "def preprocess(Sentences):\n",
    "    sentences = tf.strings.substr(Sentences, 0, 300)\n",
    "    sentences = tf.strings.regex_replace(sentences, b\"<br\\\\s*/?>\", b\" \")\n",
    "    sentences = tf.strings.regex_replace(sentences, b\"[^a-zA-Z']\", b\" \")\n",
    "    sentences = tf.strings.split(sentences)\n",
    "    sentences = tf.strings.lower(sentences)\n",
    "    sentences = sentences.to_tensor(default_value=b\"<pad>\")\n",
    "    return sentences"
   ],
   "metadata": {
    "collapsed": false,
    "ExecuteTime": {
     "end_time": "2023-10-22T20:47:01.424507Z",
     "start_time": "2023-10-22T20:47:01.422221Z"
    }
   },
   "id": "9724da01fb0057cf"
  },
  {
   "cell_type": "code",
   "execution_count": 144,
   "outputs": [
    {
     "data": {
      "text/plain": "TensorShape([7102, 34])"
     },
     "execution_count": 144,
     "metadata": {},
     "output_type": "execute_result"
    }
   ],
   "source": [
    "sentences = preprocess(Sentences)\n",
    "sentences.shape"
   ],
   "metadata": {
    "collapsed": false,
    "ExecuteTime": {
     "end_time": "2023-10-22T20:47:01.497734Z",
     "start_time": "2023-10-22T20:47:01.429648Z"
    }
   },
   "id": "d6e0c53b73ca2b05"
  },
  {
   "cell_type": "code",
   "execution_count": 145,
   "outputs": [],
   "source": [
    "def encoding(sentences, Glove):\n",
    "    Encoded_vec = []\n",
    "    for sentence in sentences:\n",
    "        sent_vec = []\n",
    "        for token in sentence:\n",
    "            token = token.numpy().decode('utf-8')\n",
    "            if token in Glove:\n",
    "                sent_vec.append(Glove[token])\n",
    "            else:\n",
    "                sent_vec.append(np.zeros(50))\n",
    "        Encoded_vec.append(sent_vec)\n",
    "    return Encoded_vec"
   ],
   "metadata": {
    "collapsed": false,
    "ExecuteTime": {
     "end_time": "2023-10-22T20:47:01.497957Z",
     "start_time": "2023-10-22T20:47:01.482458Z"
    }
   },
   "id": "53a9dabb86917dd0"
  },
  {
   "cell_type": "code",
   "execution_count": 146,
   "outputs": [
    {
     "name": "stdout",
     "output_type": "stream",
     "text": [
      "(7102, 34, 50)\n"
     ]
    }
   ],
   "source": [
    "Encoded_vec = encoding(sentences, Glove)\n",
    "X = np.array(Encoded_vec)\n",
    "print(X.shape)"
   ],
   "metadata": {
    "collapsed": false,
    "ExecuteTime": {
     "end_time": "2023-10-22T20:47:19.714285Z",
     "start_time": "2023-10-22T20:47:01.485410Z"
    }
   },
   "id": "84c6cf87381d74c1"
  },
  {
   "cell_type": "code",
   "execution_count": 147,
   "outputs": [
    {
     "name": "stdout",
     "output_type": "stream",
     "text": [
      "(7102, 4)\n"
     ]
    }
   ],
   "source": [
    "enc = OneHotEncoder(handle_unknown='ignore')\n",
    "Y = enc.fit_transform(np.array(Sentiments).reshape(-1,1)).toarray()\n",
    "print(Y.shape)"
   ],
   "metadata": {
    "collapsed": false,
    "ExecuteTime": {
     "end_time": "2023-10-22T20:47:19.722173Z",
     "start_time": "2023-10-22T20:47:19.717540Z"
    }
   },
   "id": "9058d55b89cc9d8d"
  },
  {
   "cell_type": "code",
   "execution_count": 148,
   "outputs": [],
   "source": [
    "from keras.layers import Embedding\n",
    "from sklearn.model_selection import train_test_split\n",
    "X_train, X_test, Y_train, Y_test = train_test_split(X, Y, test_size=0.2, random_state=23)"
   ],
   "metadata": {
    "collapsed": false,
    "ExecuteTime": {
     "end_time": "2023-10-22T20:47:19.790704Z",
     "start_time": "2023-10-22T20:47:19.722675Z"
    }
   },
   "id": "45425ab1fbba50c9"
  },
  {
   "cell_type": "code",
   "execution_count": 149,
   "outputs": [],
   "source": [
    "class BiLSTMModel:\n",
    "    def __init__(self):\n",
    "        self.model = Sequential()\n",
    "        self.model.add(Bidirectional(LSTM(100, input_shape=(100, 50))))\n",
    "        self.model.add(Dropout(0.2))\n",
    "        self.model.add(Dense(4, activation='softmax'))\n",
    "        self.model.compile(optimizer='Adam', loss='categorical_crossentropy', metrics=['accuracy'])\n",
    "\n",
    "    def fit(self, X, Y, epochs, batch_size):\n",
    "        self.model.fit(X, Y, epochs=epochs, batch_size=batch_size)\n",
    "\n",
    "    def evaluate(self, X, Y, batch_size):\n",
    "        return self.model.evaluate(X, Y, batch_size=batch_size)\n",
    "\n",
    "    def predict(self, X):\n",
    "        return self.model.predict(X)"
   ],
   "metadata": {
    "collapsed": false,
    "ExecuteTime": {
     "end_time": "2023-10-22T20:47:19.793677Z",
     "start_time": "2023-10-22T20:47:19.779132Z"
    }
   },
   "id": "8ed635052bdbf557"
  },
  {
   "cell_type": "code",
   "execution_count": 150,
   "outputs": [
    {
     "name": "stdout",
     "output_type": "stream",
     "text": [
      "Epoch 1/20\n",
      "89/89 [==============================] - 3s 19ms/step - loss: 1.2979 - accuracy: 0.3751\n",
      "Epoch 2/20\n",
      "89/89 [==============================] - 2s 22ms/step - loss: 1.1452 - accuracy: 0.5047\n",
      "Epoch 3/20\n",
      "89/89 [==============================] - 2s 24ms/step - loss: 1.0414 - accuracy: 0.5619\n",
      "Epoch 4/20\n",
      "89/89 [==============================] - 2s 21ms/step - loss: 0.9412 - accuracy: 0.6152\n",
      "Epoch 5/20\n",
      "89/89 [==============================] - 2s 20ms/step - loss: 0.8579 - accuracy: 0.6622\n",
      "Epoch 6/20\n",
      "89/89 [==============================] - 2s 20ms/step - loss: 0.7715 - accuracy: 0.6965\n",
      "Epoch 7/20\n",
      "89/89 [==============================] - 2s 21ms/step - loss: 0.6928 - accuracy: 0.7314\n",
      "Epoch 8/20\n",
      "89/89 [==============================] - 2s 22ms/step - loss: 0.6415 - accuracy: 0.7516\n",
      "Epoch 9/20\n",
      "89/89 [==============================] - 2s 22ms/step - loss: 0.5644 - accuracy: 0.7840\n",
      "Epoch 10/20\n",
      "89/89 [==============================] - 2s 21ms/step - loss: 0.5154 - accuracy: 0.8081\n",
      "Epoch 11/20\n",
      "89/89 [==============================] - 2s 26ms/step - loss: 0.4541 - accuracy: 0.8349\n",
      "Epoch 12/20\n",
      "89/89 [==============================] - 3s 28ms/step - loss: 0.4144 - accuracy: 0.8465\n",
      "Epoch 13/20\n",
      "89/89 [==============================] - 2s 22ms/step - loss: 0.3950 - accuracy: 0.8504\n",
      "Epoch 14/20\n",
      "89/89 [==============================] - 2s 21ms/step - loss: 0.3430 - accuracy: 0.8757\n",
      "Epoch 15/20\n",
      "89/89 [==============================] - 2s 21ms/step - loss: 0.3186 - accuracy: 0.8800\n",
      "Epoch 16/20\n",
      "89/89 [==============================] - 2s 21ms/step - loss: 0.2814 - accuracy: 0.8940\n",
      "Epoch 17/20\n",
      "89/89 [==============================] - 2s 20ms/step - loss: 0.2659 - accuracy: 0.9028\n",
      "Epoch 18/20\n",
      "89/89 [==============================] - 2s 21ms/step - loss: 0.2491 - accuracy: 0.9058\n",
      "Epoch 19/20\n",
      "89/89 [==============================] - 2s 22ms/step - loss: 0.2182 - accuracy: 0.9210\n",
      "Epoch 20/20\n",
      "89/89 [==============================] - 2s 21ms/step - loss: 0.1924 - accuracy: 0.9247\n"
     ]
    }
   ],
   "source": [
    "model = BiLSTMModel()\n",
    "\n",
    "model.fit(X_train,Y_train, epochs=20, batch_size=64)"
   ],
   "metadata": {
    "collapsed": false,
    "ExecuteTime": {
     "end_time": "2023-10-22T20:47:59.891145Z",
     "start_time": "2023-10-22T20:47:19.786184Z"
    }
   },
   "id": "90faf352efbe12a5"
  },
  {
   "cell_type": "code",
   "execution_count": 151,
   "outputs": [
    {
     "name": "stdout",
     "output_type": "stream",
     "text": [
      "Model: \"sequential_9\"\n",
      "_________________________________________________________________\n",
      " Layer (type)                Output Shape              Param #   \n",
      "=================================================================\n",
      " bidirectional_9 (Bidirecti  (None, 200)               120800    \n",
      " onal)                                                           \n",
      "                                                                 \n",
      " dropout_9 (Dropout)         (None, 200)               0         \n",
      "                                                                 \n",
      " dense_9 (Dense)             (None, 4)                 804       \n",
      "                                                                 \n",
      "=================================================================\n",
      "Total params: 121604 (475.02 KB)\n",
      "Trainable params: 121604 (475.02 KB)\n",
      "Non-trainable params: 0 (0.00 Byte)\n",
      "_________________________________________________________________\n"
     ]
    }
   ],
   "source": [
    "model.model.summary()"
   ],
   "metadata": {
    "collapsed": false,
    "ExecuteTime": {
     "end_time": "2023-10-22T20:47:59.947296Z",
     "start_time": "2023-10-22T20:47:59.884550Z"
    }
   },
   "id": "802e335f4f792b0c"
  },
  {
   "cell_type": "code",
   "execution_count": 152,
   "outputs": [
    {
     "data": {
      "image/png": "[encoded data removed]",
      "text/plain": "<IPython.core.display.Image object>"
     },
     "execution_count": 152,
     "metadata": {},
     "output_type": "execute_result"
    }
   ],
   "source": [
    "from keras.utils import plot_model\n",
    "plot_model(model.model, to_file='model_plot.png', show_shapes=True, show_layer_names=True)"
   ],
   "metadata": {
    "collapsed": false,
    "ExecuteTime": {
     "end_time": "2023-10-22T20:48:00.119240Z",
     "start_time": "2023-10-22T20:47:59.904622Z"
    }
   },
   "id": "95de901f82646ef9"
  },
  {
   "cell_type": "code",
   "execution_count": 153,
   "outputs": [
    {
     "name": "stdout",
     "output_type": "stream",
     "text": [
      "23/23 [==============================] - 1s 13ms/step - loss: 0.8163 - accuracy: 0.7495\n",
      "Loss: 0.82\n",
      "acc: 0.75\n"
     ]
    }
   ],
   "source": [
    "Loss, acc = model.evaluate(X_test, Y_test, batch_size=64)\n",
    "print(\"Loss: %.2f\" % (Loss))\n",
    "print(\"acc: %.2f\" % (acc))\n"
   ],
   "metadata": {
    "collapsed": false,
    "ExecuteTime": {
     "end_time": "2023-10-22T20:48:00.882352Z",
     "start_time": "2023-10-22T20:48:00.119128Z"
    }
   },
   "id": "9af529e6796e9845"
  },
  {
   "cell_type": "code",
   "execution_count": 173,
   "outputs": [],
   "source": [
    "def predict_emotion(txt):\n",
    "    Twt = preprocess(txt)\n",
    "    Twt = encoding(Twt, Glove)\n",
    "    Twt = np.array(Twt)\n",
    "    print(Twt.shape)\n",
    "    sentiment = model.predict(Twt)[0]\n",
    "    label = np.argmax(sentiment)\n",
    "    return enc.categories_[0][label]"
   ],
   "metadata": {
    "collapsed": false,
    "ExecuteTime": {
     "end_time": "2023-10-22T21:11:36.310156Z",
     "start_time": "2023-10-22T21:11:36.298202Z"
    }
   },
   "id": "1a94fe00e6aae683"
  },
  {
   "cell_type": "code",
   "execution_count": 174,
   "outputs": [
    {
     "name": "stdout",
     "output_type": "stream",
     "text": [
      "(1, 5, 50)\n",
      "1/1 [==============================] - 0s 14ms/step\n"
     ]
    },
    {
     "data": {
      "text/plain": "'sadness'"
     },
     "execution_count": 174,
     "metadata": {},
     "output_type": "execute_result"
    }
   ],
   "source": [
    "predict_emotion(['My dog fell sick today'])"
   ],
   "metadata": {
    "collapsed": false,
    "ExecuteTime": {
     "end_time": "2023-10-22T21:11:38.647081Z",
     "start_time": "2023-10-22T21:11:38.588656Z"
    }
   },
   "id": "8bb22bf3174367cd"
  },
  {
   "cell_type": "code",
   "execution_count": 175,
   "outputs": [
    {
     "name": "stderr",
     "output_type": "stream",
     "text": [
      "/Users/poonkuzhali.saran/PycharmProjects/emorec/.venv/lib/python3.9/site-packages/keras/src/engine/training.py:3079: UserWarning: You are saving your model as an HDF5 file via `model.save()`. This file format is considered legacy. We recommend using instead the native Keras format, e.g. `model.save('my_model.keras')`.\n",
      "  `tf.saved_model.SaveOptions` object that specifies SavedModel\n"
     ]
    }
   ],
   "source": [
    "model.model.save('sentiment_model.h5')"
   ],
   "metadata": {
    "collapsed": false,
    "ExecuteTime": {
     "end_time": "2023-10-22T21:11:41.956689Z",
     "start_time": "2023-10-22T21:11:41.933292Z"
    }
   },
   "id": "cc9e075c172e7a88"
  },
  {
   "cell_type": "code",
   "execution_count": 186,
   "outputs": [
    {
     "name": "stdout",
     "output_type": "stream",
     "text": [
      "(1, 4, 50)\n",
      "1/1 [==============================] - 0s 266ms/step\n"
     ]
    },
    {
     "data": {
      "text/plain": "'sadness'"
     },
     "execution_count": 186,
     "metadata": {},
     "output_type": "execute_result"
    }
   ],
   "source": [
    "import keras\n",
    "from keras.models import load_model\n",
    "\n",
    "user_messages = ['My dog fell sick']\n",
    "loaded_model = load_model('/Users/poonkuzhali.saran/PycharmProjects/emorec/sentiment_model.h5')\n",
    "emotion = []\n",
    "Twt = preprocess(user_messages)\n",
    "Twt = encoding(Twt, Glove)\n",
    "Twt = np.array(Twt)\n",
    "print(Twt.shape)\n",
    "sentiment = loaded_model.predict(Twt)[0]\n",
    "label = np.argmax(sentiment)\n",
    "enc.categories_[0][label]\n",
    "# for msg in user_messages:\n",
    "#     print(msg)\n",
    "#     emotion.append(loaded_model.predict(msg))\n",
    "# for e in emotion:\n",
    "#     print(e)"
   ],
   "metadata": {
    "collapsed": false,
    "ExecuteTime": {
     "end_time": "2023-10-22T22:24:41.753020Z",
     "start_time": "2023-10-22T22:24:41.274296Z"
    }
   },
   "id": "7282cfa36e74a8af"
  }
 ],
 "metadata": {
  "kernelspec": {
   "display_name": "Python 3",
   "language": "python",
   "name": "python3"
  },
  "language_info": {
   "codemirror_mode": {
    "name": "ipython",
    "version": 2
   },
   "file_extension": ".py",
   "mimetype": "text/x-python",
   "name": "python",
   "nbconvert_exporter": "python",
   "pygments_lexer": "ipython2",
   "version": "2.7.6"
  }
 },
 "nbformat": 4,
 "nbformat_minor": 5
}
